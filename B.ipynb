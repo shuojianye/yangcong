{
 "cells": [
  {
   "cell_type": "code",
   "execution_count": null,
   "metadata": {},
   "outputs": [],
   "source": [
    "Task B. Max Sub-list Sum\n",
    "这道题需要你用 Python 3 完成一个返回整数列表中，求得子列表元素的最大和的函数。举个例子，列表 arr = [-2, 1, -3, 4, -1, 2, 1, -5, 4] 的和最大子列表为 [4, -1, 2, 1]，和为6，其他任意子列表的和均小于6。\n",
    "\n",
    "你需要完成一个名为 max_sub_list 的函数，该函数接收一个只含有整数类型元素的列表，并返回一个整数，该整数为输入列表中最大和子列表的各项元素之和。\n",
    "\n",
    "例如：\n",
    "\n",
    "max_sub_list([-2, 1, -3, 4, -1, 2, 1, -5, 4])\n",
    "应该返回 6\n",
    "\n",
    "输入列表只可能是整数列表（不过也有可能是空列表），你可以不必在代码中专门验证输入。\n",
    "\n",
    "另外，如果输入列表的所有元素均为负数，则和为0。"
   ]
  },
  {
   "cell_type": "code",
   "execution_count": 105,
   "metadata": {},
   "outputs": [],
   "source": [
    "import numpy as np\n",
    "def max_sub_list(arr):\n",
    "    total = []\n",
    "    for i in range(0,len(arr)):\n",
    "        for n in range(i,len(arr)+1):\n",
    "            summation =  sum(arr[i:n])\n",
    "            total = np.append(total,summation)   \n",
    "    if max(total)>=0:\n",
    "        return max(total)\n",
    "    else:\n",
    "        return 0\n",
    "    \n",
    "            "
   ]
  },
  {
   "cell_type": "code",
   "execution_count": 107,
   "metadata": {},
   "outputs": [
    {
     "ename": "SyntaxError",
     "evalue": "invalid syntax (utils.py, line 7)",
     "output_type": "error",
     "traceback": [
      "Traceback \u001b[1;36m(most recent call last)\u001b[0m:\n",
      "  File \u001b[0;32m\"E:\\anaconda\\envs\\my-r-env\\lib\\site-packages\\IPython\\core\\interactiveshell.py\"\u001b[0m, line \u001b[0;32m2963\u001b[0m, in \u001b[0;35mrun_code\u001b[0m\n    exec(code_obj, self.user_global_ns, self.user_ns)\n",
      "\u001b[1;36m  File \u001b[1;32m\"<ipython-input-107-0029709dd5c8>\"\u001b[1;36m, line \u001b[1;32m4\u001b[1;36m, in \u001b[1;35m<module>\u001b[1;36m\u001b[0m\n\u001b[1;33m    from utils import Test_PB\u001b[0m\n",
      "\u001b[1;36m  File \u001b[1;32m\"C:\\Users\\shuoj\\Documents\\洋葱\\utils.py\"\u001b[1;36m, line \u001b[1;32m7\u001b[0m\n\u001b[1;33m    <!DOCTYPE html>\u001b[0m\n\u001b[1;37m    ^\u001b[0m\n\u001b[1;31mSyntaxError\u001b[0m\u001b[1;31m:\u001b[0m invalid syntax\n"
     ]
    }
   ],
   "source": [
    "## Testing Code, DO NOT MODIFY\n",
    "## 请运行本 Cell，得到 Test OK 后提交\n",
    "\n",
    "from utils import Test_PB\n",
    "\n",
    "t = Test_PB()\n",
    "t.test(max_sub_list)"
   ]
  }
 ],
 "metadata": {
  "kernelspec": {
   "display_name": "Python 3",
   "language": "python",
   "name": "python3"
  },
  "language_info": {
   "codemirror_mode": {
    "name": "ipython",
    "version": 3
   },
   "file_extension": ".py",
   "mimetype": "text/x-python",
   "name": "python",
   "nbconvert_exporter": "python",
   "pygments_lexer": "ipython3",
   "version": "3.6.5"
  }
 },
 "nbformat": 4,
 "nbformat_minor": 2
}
